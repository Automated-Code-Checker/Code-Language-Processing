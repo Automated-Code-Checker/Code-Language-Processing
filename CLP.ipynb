{
 "cells": [
  {
   "cell_type": "markdown",
   "id": "c032499b",
   "metadata": {},
   "source": [
    "# Code Language Processing"
   ]
  },
  {
   "cell_type": "code",
   "execution_count": 2,
   "id": "976ae762",
   "metadata": {},
   "outputs": [],
   "source": [
    "import os\n",
    "import re\n",
    "\n",
    "reserved_words = ['void','main','int','void', 'float','string','char','']\n",
    "reserved_words_set = set(reserved_words)"
   ]
  },
  {
   "cell_type": "code",
   "execution_count": 3,
   "id": "3155e0d9",
   "metadata": {},
   "outputs": [],
   "source": [
    "def get_files(directory):\n",
    "    paths = []\n",
    "    for filename in os.listdir(directory):\n",
    "        directory_filename = directory + \"\\\\\" + filename\n",
    "        paths.append(directory_filename)\n",
    "        return paths\n",
    "        \n",
    "\n",
    "        \n",
    "def get_data(paths):\n",
    "    for path in paths:\n",
    "        file = open(path,\"r\")\n",
    "        data = file.read()\n",
    "        return data\n",
    "    \n",
    "\n",
    "    \n",
    "def remove_comments(code):\n",
    "    pattern = r\"(\\\".*?\\\"|\\'.*?\\')|(/\\*.*?\\*/|//[^\\r\\n]*\\n)\"\n",
    "    regex = re.compile(pattern, re.MULTILINE | re.DOTALL)\n",
    "    def do_replace(match):\n",
    "        if match.group(2) is not None:\n",
    "            return \"\" \n",
    "        else:\n",
    "            return match.group(1)\n",
    "\n",
    "    return regex.sub(do_replace, code)\n",
    "\n",
    "\n",
    "\n",
    "def remove_libraries(code):\n",
    "    return re.sub('#.*', '', code)\n",
    "\n",
    "\n",
    "def remove_spaces(code):\n",
    "    code = re.split('\\n|\\t|$;', code)\n",
    "    while(\"\" in code) :\n",
    "        code.remove(\"\")\n",
    "    return code\n",
    "\n",
    "\n",
    "def get_variables(code):\n",
    "    variable_list = []\n",
    "    word_list = re.findall(r'\\w+[ \\t](\\w+)|,(\\w+)|(\\w+)[;)]', code)\n",
    "    \n",
    "    variable_list = word_list\n",
    "\n",
    "    variables = set( [item for t in variable_list for item in t] )\n",
    "    variables = variables - variables.intersection( reserved_words_set )\n",
    "\n",
    "    variables = [x for x in variables if not (x.isdigit() \n",
    "                                         or x[0] == '-' and x[1:].isdigit())]\n",
    "\n",
    "    return variables\n",
    "    \n",
    "\n",
    "def rename_variables(v_list,data):\n",
    "    Gen_list = ['A', ' B', 'C', 'D', 'E', 'F', 'G', 'H', 'I', 'J', 'K', 'L', 'M', 'N', 'O', 'P', 'Q', 'R', 'S', 'T', 'U', 'V', 'W', 'X', 'Y', 'Z', 'a', 'b', 'c', 'd', 'e', 'f', 'g', 'h', 'i', 'j', 'k', 'l', 'm', 'n', 'o', 'p', 'q', 'r', 's', 't', 'u', 'v', 'w', 'x', 'y', 'z']\n",
    "    for var in v_list:\n",
    "        r1 = r\"[=;\\s,.[]\" \n",
    "        r2 = r\"[]+-[.)(=;\\s,]\"\n",
    "        regex = r1 + re.escape(var) + r2\n",
    "        instances = re.findall(regex,data)\n",
    "        for instance in instances:\n",
    "            d1 = instance[0]\n",
    "            d2 = instance[-1]\n",
    "            new_variable = Gen_list[0]\n",
    "            complete_string = d1+new_variable+d2\n",
    "            data = data.replace(instance,complete_string)\n",
    "        Gen_list.pop(0)\n",
    "    return data"
   ]
  },
  {
   "cell_type": "code",
   "execution_count": 4,
   "id": "bb8d12b9",
   "metadata": {},
   "outputs": [
    {
     "data": {
      "text/plain": [
       "['struct L {',\n",
       " 'int** N;',\n",
       " 'int J; ',\n",
       " 'int  B; };',\n",
       " 'int P(int A, int J, int  B,int** N ) {',\n",
       " 'int  G,Q,O = -9999;',\n",
       " 'for (i = J; G < J + A; G++) {',\n",
       " 'for (j =  B; Q <  B + A; Q++) {',\n",
       " 'if (arr[G][Q] > O) ',\n",
       " 'O = N[G][Q];',\n",
       " '}',\n",
       " '}',\n",
       " 'return O;',\n",
       " '}',\n",
       " 'void C(int H, int** N) {',\n",
       " 'int G,Q;',\n",
       " 'for ( G = 0; G < H; G++) {',\n",
       " 'for (j = 0; Q < H; Q++) {',\n",
       " 'printf(\"%d \", N[G][Q]);',\n",
       " '}',\n",
       " 'printf(\"\\\\n\");',\n",
       " '}',\n",
       " '}',\n",
       " 'int main() {',\n",
       " 'struct L V;',\n",
       " 'struct L D;',\n",
       " 'int U,G,Q, K, R;',\n",
       " 'printf(\"Enter S of L ?\");',\n",
       " 'scanf(\"%d\", &arrsize);',\n",
       " 'printf(\"Enter M \");',\n",
       " 'scanf(\"%d\", &u);',\n",
       " 'printf(\"Enter T \");',\n",
       " 'scanf(\"%d\", &k);',\n",
       " 'V.N = (int**)malloc(arrsize * sizeof(int));',\n",
       " 'for ( G = 0; G < U; G++) {',\n",
       " 'V.N[G] = (int*)malloc(arrsize * sizeof(int));',\n",
       " 'for (j = 0; Q < U; Q++) {',\n",
       " 'scanf(\"%d\", &l.N[G][Q]);',\n",
       " '}',\n",
       " '}',\n",
       " 'D.N = (int**)malloc(u * sizeof(int));',\n",
       " 'for (i = 0; G < U; G++) {',\n",
       " 'D.N[G] = (int*)malloc(u * sizeof(int));',\n",
       " '}',\n",
       " 'C(arrsize, V.N);',\n",
       " 'printf(\"\\\\n\");',\n",
       " 'int I= 0,E=0,F;',\n",
       " 'for (i = 0; G < U - R + 1; G += K) {',\n",
       " 'for ( Q = 0; Q < U - R + 1; Q += K) {',\n",
       " ' F =P( R, G, Q, V.N);',\n",
       " ' D.N[I][E] = F;',\n",
       " ' E++;',\n",
       " '}',\n",
       " 'E = 0;',\n",
       " 'printf(\"\\\\n\");',\n",
       " 'I++;',\n",
       " '}',\n",
       " 'C(u, D.N);',\n",
       " '}']"
      ]
     },
     "execution_count": 4,
     "metadata": {},
     "output_type": "execute_result"
    }
   ],
   "source": [
    "directory = \"D:\\FYP\\Pre-processing\\data\"\n",
    "paths = get_files(directory)\n",
    "data = get_data(paths)\n",
    "variables_list = get_variables(data)\n",
    "data = rename_variables(variables_list,data)\n",
    "data = remove_comments(data)\n",
    "data = remove_libraries(data)\n",
    "data = remove_spaces(data)\n",
    "data"
   ]
  },
  {
   "cell_type": "code",
   "execution_count": 5,
   "id": "13b0d93a",
   "metadata": {},
   "outputs": [
    {
     "data": {
      "text/plain": [
       "['D:\\\\FYP\\\\Pre-processing\\\\data\\\\helo.c']"
      ]
     },
     "execution_count": 5,
     "metadata": {},
     "output_type": "execute_result"
    }
   ],
   "source": [
    "paths = get_files(directory)\n",
    "paths"
   ]
  },
  {
   "cell_type": "code",
   "execution_count": 6,
   "id": "7a13e7f3",
   "metadata": {},
   "outputs": [
    {
     "data": {
      "text/plain": [
       "'#include<stdio.h>\\n#include<stdlib.h>\\nstruct matrix {\\n\\tint** arr;\\n\\tint r; //rows\\n\\tint c; //columns\\n};\\nint poolval(int filter, int r, int c,int** arr ) {\\n\\tint  i,j,max = -9999;\\n\\tfor (i = r; i < r + filter; i++) {\\n\\t\\tfor (j = c; j < c + filter; j++) {\\n\\t\\t\\tif (arr[i][j] > max) \\n\\t\\t\\t\\tmax = arr[i][j];\\n\\t\\t}\\n\\t}\\n\\treturn max;\\n}\\nvoid fun(int n, int** arr) {//n=size\\n\\tint i,j;\\n\\tfor ( i = 0; i < n; i++) {\\n\\t\\tfor (j = 0; j < n; j++) {\\n\\t\\t\\tprintf(\"%d \", arr[i][j]);\\n\\t\\t}\\n\\t\\tprintf(\"\\\\n\");\\n\\t}\\n}\\nint main() {\\n\\tstruct matrix l;\\n\\tstruct matrix Mpooled;\\n\\tint arrsize,i,j, k, u;\\n\\tprintf(\"Enter size of matrix ?\");\\n\\tscanf(\"%d\", &arrsize);\\n\\tprintf(\"Enter Filter \");\\n\\tscanf(\"%d\", &u);\\n\\tprintf(\"Enter Stride \");\\n\\tscanf(\"%d\", &k);\\n\\tl.arr = (int**)malloc(arrsize * sizeof(int));\\n\\tfor ( i = 0; i < arrsize; i++) {\\n\\t\\tl.arr[i] = (int*)malloc(arrsize * sizeof(int));\\n\\t\\tfor (j = 0; j < arrsize; j++) {\\n\\t\\t\\tscanf(\"%d\", &l.arr[i][j]);\\n\\t\\t}\\n\\t}\\n\\tMpooled.arr = (int**)malloc(u * sizeof(int));\\n\\tfor (i = 0; i < arrsize; i++) {\\n\\t\\tMpooled.arr[i] = (int*)malloc(u * sizeof(int));\\n\\t}\\n\\tfun(arrsize, l.arr);\\n\\tprintf(\"\\\\n\");\\n\\tint pooledcol= 0,pooledrow=0,temp;\\n\\tfor (i = 0; i < arrsize - u + 1; i += k) {\\n\\t\\t\\n\\t\\tfor ( j = 0; j < arrsize - u + 1; j += k) {\\n\\t\\t\\t temp =poolval( u, i, j, l.arr);\\n\\t\\t\\t Mpooled.arr[pooledcol][pooledrow] = temp;\\n\\t\\t\\t pooledrow++;\\n\\t\\t}\\n\\t\\tpooledrow = 0;\\n\\t\\tprintf(\"\\\\n\");\\n\\t\\tpooledcol++;\\n\\t}\\n\\tfun(u, Mpooled.arr);\\n}'"
      ]
     },
     "execution_count": 6,
     "metadata": {},
     "output_type": "execute_result"
    }
   ],
   "source": [
    "data = get_data(paths)\n",
    "data"
   ]
  },
  {
   "cell_type": "code",
   "execution_count": 7,
   "id": "45cc4a0c",
   "metadata": {},
   "outputs": [
    {
     "data": {
      "text/plain": [
       "['filter',\n",
       " 'c',\n",
       " 'fun',\n",
       " 'Mpooled',\n",
       " 'pooledrow',\n",
       " 'temp',\n",
       " 'i',\n",
       " 'n',\n",
       " 'pooledcol',\n",
       " 'r',\n",
       " 'k',\n",
       " 'matrix',\n",
       " 'Filter',\n",
       " 'arr',\n",
       " 'max',\n",
       " 'poolval',\n",
       " 'j',\n",
       " 'u',\n",
       " 'size',\n",
       " 'Stride',\n",
       " 'arrsize',\n",
       " 'l']"
      ]
     },
     "execution_count": 7,
     "metadata": {},
     "output_type": "execute_result"
    }
   ],
   "source": [
    "data = get_data(paths)\n",
    "variables_list = get_variables(data)\n",
    "variables_list"
   ]
  },
  {
   "cell_type": "code",
   "execution_count": 8,
   "id": "0ab7f4c4",
   "metadata": {},
   "outputs": [
    {
     "data": {
      "text/plain": [
       "'#include<stdio.h>\\n#include<stdlib.h>\\nstruct L {\\n\\tint** N;\\n\\tint J; //rows\\n\\tint  B; //columns\\n};\\nint P(int A, int J, int  B,int** N ) {\\n\\tint  G,Q,O = -9999;\\n\\tfor (i = J; G < J + A; G++) {\\n\\t\\tfor (j =  B; Q <  B + A; Q++) {\\n\\t\\t\\tif (arr[G][Q] > O) \\n\\t\\t\\t\\tO = N[G][Q];\\n\\t\\t}\\n\\t}\\n\\treturn O;\\n}\\nvoid C(int H, int** N) {//n=S\\n\\tint G,Q;\\n\\tfor ( G = 0; G < H; G++) {\\n\\t\\tfor (j = 0; Q < H; Q++) {\\n\\t\\t\\tprintf(\"%d \", N[G][Q]);\\n\\t\\t}\\n\\t\\tprintf(\"\\\\n\");\\n\\t}\\n}\\nint main() {\\n\\tstruct L V;\\n\\tstruct L D;\\n\\tint U,G,Q, K, R;\\n\\tprintf(\"Enter S of L ?\");\\n\\tscanf(\"%d\", &arrsize);\\n\\tprintf(\"Enter M \");\\n\\tscanf(\"%d\", &u);\\n\\tprintf(\"Enter T \");\\n\\tscanf(\"%d\", &k);\\n\\tV.N = (int**)malloc(arrsize * sizeof(int));\\n\\tfor ( G = 0; G < U; G++) {\\n\\t\\tV.N[G] = (int*)malloc(arrsize * sizeof(int));\\n\\t\\tfor (j = 0; Q < U; Q++) {\\n\\t\\t\\tscanf(\"%d\", &l.N[G][Q]);\\n\\t\\t}\\n\\t}\\n\\tD.N = (int**)malloc(u * sizeof(int));\\n\\tfor (i = 0; G < U; G++) {\\n\\t\\tD.N[G] = (int*)malloc(u * sizeof(int));\\n\\t}\\n\\tC(arrsize, V.N);\\n\\tprintf(\"\\\\n\");\\n\\tint I= 0,E=0,F;\\n\\tfor (i = 0; G < U - R + 1; G += K) {\\n\\t\\t\\n\\t\\tfor ( Q = 0; Q < U - R + 1; Q += K) {\\n\\t\\t\\t F =P( R, G, Q, V.N);\\n\\t\\t\\t D.N[I][E] = F;\\n\\t\\t\\t E++;\\n\\t\\t}\\n\\t\\tE = 0;\\n\\t\\tprintf(\"\\\\n\");\\n\\t\\tI++;\\n\\t}\\n\\tC(u, D.N);\\n}'"
      ]
     },
     "execution_count": 8,
     "metadata": {},
     "output_type": "execute_result"
    }
   ],
   "source": [
    "data = get_data(paths)\n",
    "data = rename_variables(variables_list,data)\n",
    "data"
   ]
  },
  {
   "cell_type": "code",
   "execution_count": 9,
   "id": "3a26c163",
   "metadata": {},
   "outputs": [
    {
     "data": {
      "text/plain": [
       "'#include<stdio.h>\\n#include<stdlib.h>\\nstruct matrix {\\n\\tint** arr;\\n\\tint r; \\tint c; };\\nint poolval(int filter, int r, int c,int** arr ) {\\n\\tint  i,j,max = -9999;\\n\\tfor (i = r; i < r + filter; i++) {\\n\\t\\tfor (j = c; j < c + filter; j++) {\\n\\t\\t\\tif (arr[i][j] > max) \\n\\t\\t\\t\\tmax = arr[i][j];\\n\\t\\t}\\n\\t}\\n\\treturn max;\\n}\\nvoid fun(int n, int** arr) {\\tint i,j;\\n\\tfor ( i = 0; i < n; i++) {\\n\\t\\tfor (j = 0; j < n; j++) {\\n\\t\\t\\tprintf(\"%d \", arr[i][j]);\\n\\t\\t}\\n\\t\\tprintf(\"\\\\n\");\\n\\t}\\n}\\nint main() {\\n\\tstruct matrix l;\\n\\tstruct matrix Mpooled;\\n\\tint arrsize,i,j, k, u;\\n\\tprintf(\"Enter size of matrix ?\");\\n\\tscanf(\"%d\", &arrsize);\\n\\tprintf(\"Enter Filter \");\\n\\tscanf(\"%d\", &u);\\n\\tprintf(\"Enter Stride \");\\n\\tscanf(\"%d\", &k);\\n\\tl.arr = (int**)malloc(arrsize * sizeof(int));\\n\\tfor ( i = 0; i < arrsize; i++) {\\n\\t\\tl.arr[i] = (int*)malloc(arrsize * sizeof(int));\\n\\t\\tfor (j = 0; j < arrsize; j++) {\\n\\t\\t\\tscanf(\"%d\", &l.arr[i][j]);\\n\\t\\t}\\n\\t}\\n\\tMpooled.arr = (int**)malloc(u * sizeof(int));\\n\\tfor (i = 0; i < arrsize; i++) {\\n\\t\\tMpooled.arr[i] = (int*)malloc(u * sizeof(int));\\n\\t}\\n\\tfun(arrsize, l.arr);\\n\\tprintf(\"\\\\n\");\\n\\tint pooledcol= 0,pooledrow=0,temp;\\n\\tfor (i = 0; i < arrsize - u + 1; i += k) {\\n\\t\\t\\n\\t\\tfor ( j = 0; j < arrsize - u + 1; j += k) {\\n\\t\\t\\t temp =poolval( u, i, j, l.arr);\\n\\t\\t\\t Mpooled.arr[pooledcol][pooledrow] = temp;\\n\\t\\t\\t pooledrow++;\\n\\t\\t}\\n\\t\\tpooledrow = 0;\\n\\t\\tprintf(\"\\\\n\");\\n\\t\\tpooledcol++;\\n\\t}\\n\\tfun(u, Mpooled.arr);\\n}'"
      ]
     },
     "execution_count": 9,
     "metadata": {},
     "output_type": "execute_result"
    }
   ],
   "source": [
    "data = get_data(paths)\n",
    "data = remove_comments(data)\n",
    "data"
   ]
  },
  {
   "cell_type": "code",
   "execution_count": 10,
   "id": "14689043",
   "metadata": {},
   "outputs": [
    {
     "data": {
      "text/plain": [
       "'\\n\\nstruct matrix {\\n\\tint** arr;\\n\\tint r; //rows\\n\\tint c; //columns\\n};\\nint poolval(int filter, int r, int c,int** arr ) {\\n\\tint  i,j,max = -9999;\\n\\tfor (i = r; i < r + filter; i++) {\\n\\t\\tfor (j = c; j < c + filter; j++) {\\n\\t\\t\\tif (arr[i][j] > max) \\n\\t\\t\\t\\tmax = arr[i][j];\\n\\t\\t}\\n\\t}\\n\\treturn max;\\n}\\nvoid fun(int n, int** arr) {//n=size\\n\\tint i,j;\\n\\tfor ( i = 0; i < n; i++) {\\n\\t\\tfor (j = 0; j < n; j++) {\\n\\t\\t\\tprintf(\"%d \", arr[i][j]);\\n\\t\\t}\\n\\t\\tprintf(\"\\\\n\");\\n\\t}\\n}\\nint main() {\\n\\tstruct matrix l;\\n\\tstruct matrix Mpooled;\\n\\tint arrsize,i,j, k, u;\\n\\tprintf(\"Enter size of matrix ?\");\\n\\tscanf(\"%d\", &arrsize);\\n\\tprintf(\"Enter Filter \");\\n\\tscanf(\"%d\", &u);\\n\\tprintf(\"Enter Stride \");\\n\\tscanf(\"%d\", &k);\\n\\tl.arr = (int**)malloc(arrsize * sizeof(int));\\n\\tfor ( i = 0; i < arrsize; i++) {\\n\\t\\tl.arr[i] = (int*)malloc(arrsize * sizeof(int));\\n\\t\\tfor (j = 0; j < arrsize; j++) {\\n\\t\\t\\tscanf(\"%d\", &l.arr[i][j]);\\n\\t\\t}\\n\\t}\\n\\tMpooled.arr = (int**)malloc(u * sizeof(int));\\n\\tfor (i = 0; i < arrsize; i++) {\\n\\t\\tMpooled.arr[i] = (int*)malloc(u * sizeof(int));\\n\\t}\\n\\tfun(arrsize, l.arr);\\n\\tprintf(\"\\\\n\");\\n\\tint pooledcol= 0,pooledrow=0,temp;\\n\\tfor (i = 0; i < arrsize - u + 1; i += k) {\\n\\t\\t\\n\\t\\tfor ( j = 0; j < arrsize - u + 1; j += k) {\\n\\t\\t\\t temp =poolval( u, i, j, l.arr);\\n\\t\\t\\t Mpooled.arr[pooledcol][pooledrow] = temp;\\n\\t\\t\\t pooledrow++;\\n\\t\\t}\\n\\t\\tpooledrow = 0;\\n\\t\\tprintf(\"\\\\n\");\\n\\t\\tpooledcol++;\\n\\t}\\n\\tfun(u, Mpooled.arr);\\n}'"
      ]
     },
     "execution_count": 10,
     "metadata": {},
     "output_type": "execute_result"
    }
   ],
   "source": [
    "data = get_data(paths)\n",
    "data = remove_libraries(data)\n",
    "data"
   ]
  },
  {
   "cell_type": "code",
   "execution_count": 11,
   "id": "7cc95466",
   "metadata": {},
   "outputs": [
    {
     "data": {
      "text/plain": [
       "['#include<stdio.h>',\n",
       " '#include<stdlib.h>',\n",
       " 'struct matrix {',\n",
       " 'int** arr;',\n",
       " 'int r; //rows',\n",
       " 'int c; //columns',\n",
       " '};',\n",
       " 'int poolval(int filter, int r, int c,int** arr ) {',\n",
       " 'int  i,j,max = -9999;',\n",
       " 'for (i = r; i < r + filter; i++) {',\n",
       " 'for (j = c; j < c + filter; j++) {',\n",
       " 'if (arr[i][j] > max) ',\n",
       " 'max = arr[i][j];',\n",
       " '}',\n",
       " '}',\n",
       " 'return max;',\n",
       " '}',\n",
       " 'void fun(int n, int** arr) {//n=size',\n",
       " 'int i,j;',\n",
       " 'for ( i = 0; i < n; i++) {',\n",
       " 'for (j = 0; j < n; j++) {',\n",
       " 'printf(\"%d \", arr[i][j]);',\n",
       " '}',\n",
       " 'printf(\"\\\\n\");',\n",
       " '}',\n",
       " '}',\n",
       " 'int main() {',\n",
       " 'struct matrix l;',\n",
       " 'struct matrix Mpooled;',\n",
       " 'int arrsize,i,j, k, u;',\n",
       " 'printf(\"Enter size of matrix ?\");',\n",
       " 'scanf(\"%d\", &arrsize);',\n",
       " 'printf(\"Enter Filter \");',\n",
       " 'scanf(\"%d\", &u);',\n",
       " 'printf(\"Enter Stride \");',\n",
       " 'scanf(\"%d\", &k);',\n",
       " 'l.arr = (int**)malloc(arrsize * sizeof(int));',\n",
       " 'for ( i = 0; i < arrsize; i++) {',\n",
       " 'l.arr[i] = (int*)malloc(arrsize * sizeof(int));',\n",
       " 'for (j = 0; j < arrsize; j++) {',\n",
       " 'scanf(\"%d\", &l.arr[i][j]);',\n",
       " '}',\n",
       " '}',\n",
       " 'Mpooled.arr = (int**)malloc(u * sizeof(int));',\n",
       " 'for (i = 0; i < arrsize; i++) {',\n",
       " 'Mpooled.arr[i] = (int*)malloc(u * sizeof(int));',\n",
       " '}',\n",
       " 'fun(arrsize, l.arr);',\n",
       " 'printf(\"\\\\n\");',\n",
       " 'int pooledcol= 0,pooledrow=0,temp;',\n",
       " 'for (i = 0; i < arrsize - u + 1; i += k) {',\n",
       " 'for ( j = 0; j < arrsize - u + 1; j += k) {',\n",
       " ' temp =poolval( u, i, j, l.arr);',\n",
       " ' Mpooled.arr[pooledcol][pooledrow] = temp;',\n",
       " ' pooledrow++;',\n",
       " '}',\n",
       " 'pooledrow = 0;',\n",
       " 'printf(\"\\\\n\");',\n",
       " 'pooledcol++;',\n",
       " '}',\n",
       " 'fun(u, Mpooled.arr);',\n",
       " '}']"
      ]
     },
     "execution_count": 11,
     "metadata": {},
     "output_type": "execute_result"
    }
   ],
   "source": [
    "data = get_data(paths)\n",
    "data = remove_spaces(data)\n",
    "data"
   ]
  }
 ],
 "metadata": {
  "kernelspec": {
   "display_name": "Python 3 (ipykernel)",
   "language": "python",
   "name": "python3"
  },
  "language_info": {
   "codemirror_mode": {
    "name": "ipython",
    "version": 3
   },
   "file_extension": ".py",
   "mimetype": "text/x-python",
   "name": "python",
   "nbconvert_exporter": "python",
   "pygments_lexer": "ipython3",
   "version": "3.8.10"
  }
 },
 "nbformat": 4,
 "nbformat_minor": 5
}
